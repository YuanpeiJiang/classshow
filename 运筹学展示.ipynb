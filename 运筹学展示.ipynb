{
 "cells": [
  {
   "cell_type": "markdown",
   "metadata": {},
   "source": [
    "## 准备\n",
    "`make_mat`用于初始化二维数组\n",
    "\n",
    "`get_edges`用于将图由邻接矩阵表示变换为边的列表."
   ]
  },
  {
   "cell_type": "code",
   "execution_count": 12,
   "metadata": {},
   "outputs": [],
   "source": [
    "import heapq\n",
    "INF = 1e6\n",
    "\n",
    "\n",
    "def make_mat(m, n, fill=None):\n",
    "    mat = []\n",
    "    for i in range(m):\n",
    "        mat.append([fill] * n)\n",
    "    return mat\n",
    "\n",
    "def get_edges(graph):\n",
    "    n = len(graph)\n",
    "    edges = []\n",
    "    for i in range(n):\n",
    "        for j in range(n):\n",
    "            if graph[i][j] != 0:\n",
    "                edges.append((i, j, graph[i][j]))\n",
    "    return edges"
   ]
  },
  {
   "cell_type": "markdown",
   "metadata": {},
   "source": [
    "## Bellman-Ford算法\n",
    "Bellman-Ford是一种容易理解的单源最短路径算法, Bellman-Ford算法需要两个数组进行辅助:\n",
    "\n",
    "`dis[i]`: 存储顶点i到源点已知最短路径\n",
    "\n",
    "`path[i]`: 存储顶点i到源点已知最短路径上, i的前一个顶点.\n",
    "\n",
    "若图有n个顶点, 则图中最长简单路径长度不超过n-1, 因此Ford算法进行n-1次迭代确保获得最短路径."
   ]
  },
  {
   "cell_type": "code",
   "execution_count": 6,
   "metadata": {},
   "outputs": [],
   "source": [
    "def ford(graph, v0):\n",
    "    n = len(graph)\n",
    "    edges = get_edges(graph)\n",
    "    dis = [INF] * n\n",
    "    dis[v0] = 0\n",
    "    path = [0] * n\n",
    "\n",
    "    for k in range(n-1):\n",
    "        for edge in edges:\n",
    "            # relax\n",
    "            if dis[edge[0]] + edge[2] < dis[edge[1]]:\n",
    "                dis[edge[1]] = dis[edge[0]] + edge[2]\n",
    "                path[edge[1]] = edge[0]\n",
    "\n",
    "    # check negative loop\n",
    "    flag = False\n",
    "    for edge in edges:\n",
    "     # try to relax\n",
    "        if dis[edge[0]] + edge[2] < dis[edge[1]]:\n",
    "            flag = True\n",
    "            break\n",
    "    if flag:\n",
    "        return False\n",
    "    return dis, path"
   ]
  },
  {
   "cell_type": "markdown",
   "metadata": {},
   "source": [
    "## Dijkstra算法"
   ]
  },
  {
   "cell_type": "markdown",
   "metadata": {},
   "source": [
    "Dijkstra算法是一种贪心算法, 但可以保证求得全局最优解. Dijkstra算法需要和Ford算法同样的两个辅助数组:\n",
    "\n",
    "`dis[i]`: 存储顶点i到源点已知最短路径\n",
    "\n",
    "`path[i]`: 存储顶点i到源点已知最短路径上, i的前一个顶点."
   ]
  },
  {
   "cell_type": "code",
   "execution_count": 7,
   "metadata": {},
   "outputs": [],
   "source": [
    "def dijkstra(graph, v0):\n",
    "    n = len(graph)\n",
    "    dis = [INF] * n\n",
    "    dis[v0] = 0\n",
    "    path = [0] * n\n",
    "\n",
    "    unvisited = get_edges(graph)\n",
    "    heapq.heapify(unvisited)\n",
    "\n",
    "    while len(unvisited):\n",
    "        u = heapq.heappop(unvisited)[1]\n",
    "        for v in range(len(graph[u])):\n",
    "            w = graph[u][v]\n",
    "            if dis[u] + w < dis[v]:\n",
    "                dis[v] = dis[u] + w\n",
    "                path[v] = u\n",
    "\n",
    "    return dis, path"
   ]
  },
  {
   "cell_type": "markdown",
   "metadata": {},
   "source": [
    "## floyd算法"
   ]
  },
  {
   "cell_type": "markdown",
   "metadata": {},
   "source": [
    "\n",
    "floyd算法采用动态规划思想的多源最短路径算法. 它同样需要两个辅助数组, 但作为多源最短路径算法, 其结构不同\n",
    "\n",
    "`dis[i][j]`: 保存从顶点i到顶点j的已知最短路径, 初始化为直接连接\n",
    "\n",
    "`path[i][j]`: 保存从顶点i到顶点j的已知最短路径上下一个顶点, 初始化为j"
   ]
  },
  {
   "cell_type": "code",
   "execution_count": 8,
   "metadata": {},
   "outputs": [],
   "source": [
    "def floyd(graph):\n",
    "    # init\n",
    "    m = len(graph)\n",
    "    dis = make_mat(m, m, fill=0)\n",
    "    path = make_mat(m, m, fill=0)\n",
    "    for i in range(m):\n",
    "        for j in range(m):\n",
    "            dis[i][j] = graph[i][j]\n",
    "            path[i][j] = j\n",
    "\n",
    "    for k in range(m):\n",
    "        for i in range(m):\n",
    "            for j in range(m):\n",
    "                # relax\n",
    "                if dis[i][k] + dis[k][j] < dis[i][j]:\n",
    "                    dis[i][j] = dis[i][k] + dis[k][j]\n",
    "                    path[i][j] = path[i][k]\n",
    "\n",
    "    return dis, path"
   ]
  },
  {
   "cell_type": "code",
   "execution_count": 14,
   "metadata": {},
   "outputs": [
    {
     "name": "stdout",
     "output_type": "stream",
     "text": [
      "([0, 3, 3, 2, 1000000.0], [0, 3, 3, 0, 0])\n"
     ]
    }
   ],
   "source": [
    "M = float(\"inf\")         \n",
    "graph = [[0, 4, M, 2, M],\n",
    "         [4, 0, 4, 1, M],         \n",
    "         [M, 4, 0, 1, M],         \n",
    "         [2, 1, 1, 0, M],         \n",
    "         [M, M, M, M, M]]\n",
    "dist0 = dijkstra(graph,0)\n",
    "dist1 = floyd(graph)  \n",
    "dist=ford(graph,0)\n",
    "print(dist0)"
   ]
  },
  {
   "cell_type": "code",
   "execution_count": null,
   "metadata": {},
   "outputs": [],
   "source": []
  }
 ],
 "metadata": {
  "kernelspec": {
   "display_name": "Python 3",
   "language": "python",
   "name": "python3"
  },
  "language_info": {
   "codemirror_mode": {
    "name": "ipython",
    "version": 3
   },
   "file_extension": ".py",
   "mimetype": "text/x-python",
   "name": "python",
   "nbconvert_exporter": "python",
   "pygments_lexer": "ipython3",
   "version": "3.7.3"
  }
 },
 "nbformat": 4,
 "nbformat_minor": 2
}
